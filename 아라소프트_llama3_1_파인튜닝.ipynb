{
  "cells": [
    {
      "cell_type": "code",
      "execution_count": 1,
      "metadata": {},
      "outputs": [
        {
          "data": {
            "text/plain": [
              "True"
            ]
          },
          "execution_count": 1,
          "metadata": {},
          "output_type": "execute_result"
        }
      ],
      "source": [
        "import torch\n",
        "torch.cuda.is_available()"
      ]
    },
    {
      "cell_type": "code",
      "execution_count": 2,
      "metadata": {
        "collapsed": true,
        "id": "-2DbOlV32f_i"
      },
      "outputs": [
        {
          "name": "stdout",
          "output_type": "stream",
          "text": [
            "Collecting unsloth\n",
            "  Downloading unsloth-2024.9.post4-py3-none-any.whl (165 kB)\n",
            "                                              0.0/165.7 kB ? eta -:--:--\n",
            "     ----------------                        71.7/165.7 kB 1.3 MB/s eta 0:00:01\n",
            "     -------------------------------------- 165.7/165.7 kB 2.0 MB/s eta 0:00:00\n",
            "Requirement already satisfied: torch>=2.4.0 in c:\\users\\user\\desktop\\github\\arasoft-langchain\\myenv\\lib\\site-packages (from unsloth) (2.4.1)\n",
            "Collecting xformers>=0.0.27.post2 (from unsloth)\n",
            "  Downloading xformers-0.0.28.post1.tar.gz (7.8 MB)\n",
            "                                              0.0/7.8 MB ? eta -:--:--\n",
            "     -                                        0.3/7.8 MB 7.7 MB/s eta 0:00:01\n",
            "     ---                                      0.8/7.8 MB 9.6 MB/s eta 0:00:01\n",
            "     ----------                               2.1/7.8 MB 17.0 MB/s eta 0:00:01\n",
            "     -----------------------                  4.5/7.8 MB 28.5 MB/s eta 0:00:01\n",
            "     ----------------------------             5.5/7.8 MB 24.9 MB/s eta 0:00:01\n",
            "     ---------------------------------------  7.6/7.8 MB 28.5 MB/s eta 0:00:01\n",
            "     ---------------------------------------  7.8/7.8 MB 27.5 MB/s eta 0:00:01\n",
            "     ---------------------------------------- 7.8/7.8 MB 23.6 MB/s eta 0:00:00\n",
            "  Installing build dependencies: started\n",
            "  Installing build dependencies: finished with status 'done'\n",
            "  Getting requirements to build wheel: started\n",
            "  Getting requirements to build wheel: finished with status 'error'\n"
          ]
        },
        {
          "name": "stderr",
          "output_type": "stream",
          "text": [
            "  error: subprocess-exited-with-error\n",
            "  \n",
            "  × Getting requirements to build wheel did not run successfully.\n",
            "  │ exit code: 1\n",
            "  ╰─> [20 lines of output]\n",
            "      Traceback (most recent call last):\n",
            "        File \"C:\\Users\\User\\Desktop\\github\\arasoft-langchain\\myenv\\Lib\\site-packages\\pip\\_vendor\\pyproject_hooks\\_in_process\\_in_process.py\", line 353, in <module>\n",
            "          main()\n",
            "        File \"C:\\Users\\User\\Desktop\\github\\arasoft-langchain\\myenv\\Lib\\site-packages\\pip\\_vendor\\pyproject_hooks\\_in_process\\_in_process.py\", line 335, in main\n",
            "          json_out['return_val'] = hook(**hook_input['kwargs'])\n",
            "                                   ^^^^^^^^^^^^^^^^^^^^^^^^^^^^\n",
            "        File \"C:\\Users\\User\\Desktop\\github\\arasoft-langchain\\myenv\\Lib\\site-packages\\pip\\_vendor\\pyproject_hooks\\_in_process\\_in_process.py\", line 118, in get_requires_for_build_wheel\n",
            "          return hook(config_settings)\n",
            "                 ^^^^^^^^^^^^^^^^^^^^^\n",
            "        File \"C:\\Users\\User\\AppData\\Local\\Temp\\pip-build-env-zlc1ti9o\\overlay\\Lib\\site-packages\\setuptools\\build_meta.py\", line 332, in get_requires_for_build_wheel\n",
            "          return self._get_build_requires(config_settings, requirements=[])\n",
            "                 ^^^^^^^^^^^^^^^^^^^^^^^^^^^^^^^^^^^^^^^^^^^^^^^^^^^^^^^^^^\n",
            "        File \"C:\\Users\\User\\AppData\\Local\\Temp\\pip-build-env-zlc1ti9o\\overlay\\Lib\\site-packages\\setuptools\\build_meta.py\", line 302, in _get_build_requires\n",
            "          self.run_setup()\n",
            "        File \"C:\\Users\\User\\AppData\\Local\\Temp\\pip-build-env-zlc1ti9o\\overlay\\Lib\\site-packages\\setuptools\\build_meta.py\", line 503, in run_setup\n",
            "          super().run_setup(setup_script=setup_script)\n",
            "        File \"C:\\Users\\User\\AppData\\Local\\Temp\\pip-build-env-zlc1ti9o\\overlay\\Lib\\site-packages\\setuptools\\build_meta.py\", line 318, in run_setup\n",
            "          exec(code, locals())\n",
            "        File \"<string>\", line 24, in <module>\n",
            "      ModuleNotFoundError: No module named 'torch'\n",
            "      [end of output]\n",
            "  \n",
            "  note: This error originates from a subprocess, and is likely not a problem with pip.\n",
            "error: subprocess-exited-with-error\n",
            "\n",
            "× Getting requirements to build wheel did not run successfully.\n",
            "│ exit code: 1\n",
            "╰─> See above for output.\n",
            "\n",
            "note: This error originates from a subprocess, and is likely not a problem with pip.\n",
            "\n",
            "[notice] A new release of pip is available: 23.1.2 -> 24.2\n",
            "[notice] To update, run: python.exe -m pip install --upgrade pip\n"
          ]
        },
        {
          "name": "stdout",
          "output_type": "stream",
          "text": [
            "^C\n"
          ]
        },
        {
          "name": "stdout",
          "output_type": "stream",
          "text": [
            "Collecting unsloth[colab-new]@ git+https://github.com/unslothai/unsloth.git\n",
            "  Cloning https://github.com/unslothai/unsloth.git to c:\\users\\user\\appdata\\local\\temp\\pip-install-wuwqvjre\\unsloth_fef6f8b05e6f4e6dae4e2c57d5fd6296\n",
            "  Resolved https://github.com/unslothai/unsloth.git to commit 597e1894f60b9157490d99dc140714899bcc0d14\n",
            "  Installing build dependencies: started\n",
            "  Installing build dependencies: finished with status 'done'\n",
            "  Getting requirements to build wheel: started\n",
            "  Getting requirements to build wheel: finished with status 'done'\n",
            "  Preparing metadata (pyproject.toml): started\n",
            "  Preparing metadata (pyproject.toml): finished with status 'done'\n",
            "Requirement already satisfied: packaging in c:\\users\\user\\desktop\\github\\arasoft-langchain\\myenv\\lib\\site-packages (from unsloth[colab-new]@ git+https://github.com/unslothai/unsloth.git) (24.1)\n",
            "Collecting tyro (from unsloth[colab-new]@ git+https://github.com/unslothai/unsloth.git)\n",
            "  Downloading tyro-0.8.11-py3-none-any.whl (105 kB)\n",
            "                                              0.0/105.9 kB ? eta -:--:--\n",
            "     ---------------------------------       92.2/105.9 kB 5.1 MB/s eta 0:00:01\n",
            "     -------------------------------------- 105.9/105.9 kB 6.0 MB/s eta 0:00:00\n",
            "Collecting transformers<4.45.0 (from unsloth[colab-new]@ git+https://github.com/unslothai/unsloth.git)\n",
            "  Downloading transformers-4.44.2-py3-none-any.whl (9.5 MB)\n",
            "                                              0.0/9.5 MB ? eta -:--:--\n",
            "                                              0.1/9.5 MB 2.4 MB/s eta 0:00:04\n",
            "     --                                       0.5/9.5 MB 5.2 MB/s eta 0:00:02\n",
            "     ----                                     1.0/9.5 MB 8.1 MB/s eta 0:00:02\n",
            "     ---------                                2.3/9.5 MB 12.3 MB/s eta 0:00:01\n",
            "     ------------------                       4.4/9.5 MB 19.8 MB/s eta 0:00:01\n",
            "     ------------------                       4.4/9.5 MB 19.8 MB/s eta 0:00:01\n",
            "     ------------------------------           7.1/9.5 MB 24.0 MB/s eta 0:00:01\n",
            "     ---------------------------------        8.0/9.5 MB 24.3 MB/s eta 0:00:01\n",
            "     ---------------------------------------- 9.5/9.5 MB 23.3 MB/s eta 0:00:00\n",
            "Requirement already satisfied: datasets>=2.16.0 in c:\\users\\user\\desktop\\github\\arasoft-langchain\\myenv\\lib\\site-packages (from unsloth[colab-new]@ git+https://github.com/unslothai/unsloth.git) (3.0.1)\n",
            "Collecting sentencepiece>=0.2.0 (from unsloth[colab-new]@ git+https://github.com/unslothai/unsloth.git)\n",
            "  Downloading sentencepiece-0.2.0-cp311-cp311-win_amd64.whl (991 kB)\n",
            "                                              0.0/991.5 kB ? eta -:--:--\n",
            "     ------------------------------------- 991.5/991.5 kB 65.4 MB/s eta 0:00:00\n",
            "Requirement already satisfied: tqdm in c:\\users\\user\\desktop\\github\\arasoft-langchain\\myenv\\lib\\site-packages (from unsloth[colab-new]@ git+https://github.com/unslothai/unsloth.git) (4.66.5)\n",
            "Requirement already satisfied: psutil in c:\\users\\user\\desktop\\github\\arasoft-langchain\\myenv\\lib\\site-packages (from unsloth[colab-new]@ git+https://github.com/unslothai/unsloth.git) (6.0.0)\n",
            "Collecting wheel>=0.42.0 (from unsloth[colab-new]@ git+https://github.com/unslothai/unsloth.git)\n",
            "  Downloading wheel-0.44.0-py3-none-any.whl (67 kB)\n",
            "                                              0.0/67.1 kB ? eta -:--:--\n",
            "     ---------------------------------------- 67.1/67.1 kB ? eta 0:00:00\n",
            "Requirement already satisfied: numpy in c:\\users\\user\\desktop\\github\\arasoft-langchain\\myenv\\lib\\site-packages (from unsloth[colab-new]@ git+https://github.com/unslothai/unsloth.git) (1.26.4)\n",
            "Collecting protobuf<4.0.0 (from unsloth[colab-new]@ git+https://github.com/unslothai/unsloth.git)\n",
            "  Downloading protobuf-3.20.3-py2.py3-none-any.whl (162 kB)\n",
            "                                              0.0/162.1 kB ? eta -:--:--\n",
            "     ---------------------------------------- 162.1/162.1 kB ? eta 0:00:00\n",
            "Requirement already satisfied: huggingface-hub in c:\\users\\user\\desktop\\github\\arasoft-langchain\\myenv\\lib\\site-packages (from unsloth[colab-new]@ git+https://github.com/unslothai/unsloth.git) (0.25.1)\n",
            "Collecting hf-transfer (from unsloth[colab-new]@ git+https://github.com/unslothai/unsloth.git)\n",
            "  Downloading hf_transfer-0.1.8-cp311-none-win_amd64.whl (1.2 MB)\n",
            "                                              0.0/1.2 MB ? eta -:--:--\n",
            "     ---------------------------------------- 1.2/1.2 MB 80.0 MB/s eta 0:00:00\n",
            "Requirement already satisfied: filelock in c:\\users\\user\\desktop\\github\\arasoft-langchain\\myenv\\lib\\site-packages (from datasets>=2.16.0->unsloth[colab-new]@ git+https://github.com/unslothai/unsloth.git) (3.16.1)\n",
            "Requirement already satisfied: pyarrow>=15.0.0 in c:\\users\\user\\desktop\\github\\arasoft-langchain\\myenv\\lib\\site-packages (from datasets>=2.16.0->unsloth[colab-new]@ git+https://github.com/unslothai/unsloth.git) (17.0.0)\n",
            "Requirement already satisfied: dill<0.3.9,>=0.3.0 in c:\\users\\user\\desktop\\github\\arasoft-langchain\\myenv\\lib\\site-packages (from datasets>=2.16.0->unsloth[colab-new]@ git+https://github.com/unslothai/unsloth.git) (0.3.8)\n",
            "Requirement already satisfied: pandas in c:\\users\\user\\desktop\\github\\arasoft-langchain\\myenv\\lib\\site-packages (from datasets>=2.16.0->unsloth[colab-new]@ git+https://github.com/unslothai/unsloth.git) (2.2.2)\n",
            "Requirement already satisfied: requests>=2.32.2 in c:\\users\\user\\desktop\\github\\arasoft-langchain\\myenv\\lib\\site-packages (from datasets>=2.16.0->unsloth[colab-new]@ git+https://github.com/unslothai/unsloth.git) (2.32.3)\n",
            "Requirement already satisfied: xxhash in c:\\users\\user\\desktop\\github\\arasoft-langchain\\myenv\\lib\\site-packages (from datasets>=2.16.0->unsloth[colab-new]@ git+https://github.com/unslothai/unsloth.git) (3.5.0)\n",
            "Requirement already satisfied: multiprocess in c:\\users\\user\\desktop\\github\\arasoft-langchain\\myenv\\lib\\site-packages (from datasets>=2.16.0->unsloth[colab-new]@ git+https://github.com/unslothai/unsloth.git) (0.70.16)\n",
            "Requirement already satisfied: fsspec[http]<=2024.6.1,>=2023.1.0 in c:\\users\\user\\desktop\\github\\arasoft-langchain\\myenv\\lib\\site-packages (from datasets>=2.16.0->unsloth[colab-new]@ git+https://github.com/unslothai/unsloth.git) (2024.6.1)\n",
            "Requirement already satisfied: aiohttp in c:\\users\\user\\desktop\\github\\arasoft-langchain\\myenv\\lib\\site-packages (from datasets>=2.16.0->unsloth[colab-new]@ git+https://github.com/unslothai/unsloth.git) (3.10.5)\n",
            "Requirement already satisfied: pyyaml>=5.1 in c:\\users\\user\\desktop\\github\\arasoft-langchain\\myenv\\lib\\site-packages (from datasets>=2.16.0->unsloth[colab-new]@ git+https://github.com/unslothai/unsloth.git) (6.0.2)\n",
            "Requirement already satisfied: typing-extensions>=3.7.4.3 in c:\\users\\user\\desktop\\github\\arasoft-langchain\\myenv\\lib\\site-packages (from huggingface-hub->unsloth[colab-new]@ git+https://github.com/unslothai/unsloth.git) (4.12.2)\n",
            "Requirement already satisfied: colorama in c:\\users\\user\\desktop\\github\\arasoft-langchain\\myenv\\lib\\site-packages (from tqdm->unsloth[colab-new]@ git+https://github.com/unslothai/unsloth.git) (0.4.6)\n",
            "Requirement already satisfied: regex!=2019.12.17 in c:\\users\\user\\desktop\\github\\arasoft-langchain\\myenv\\lib\\site-packages (from transformers<4.45.0->unsloth[colab-new]@ git+https://github.com/unslothai/unsloth.git) (2024.7.24)\n",
            "Requirement already satisfied: safetensors>=0.4.1 in c:\\users\\user\\desktop\\github\\arasoft-langchain\\myenv\\lib\\site-packages (from transformers<4.45.0->unsloth[colab-new]@ git+https://github.com/unslothai/unsloth.git) (0.4.5)\n",
            "Collecting tokenizers<0.20,>=0.19 (from transformers<4.45.0->unsloth[colab-new]@ git+https://github.com/unslothai/unsloth.git)\n",
            "  Downloading tokenizers-0.19.1-cp311-none-win_amd64.whl (2.2 MB)\n",
            "                                              0.0/2.2 MB ? eta -:--:--\n",
            "     ---------------------------------------- 2.2/2.2 MB 71.3 MB/s eta 0:00:00\n",
            "Collecting docstring-parser>=0.16 (from tyro->unsloth[colab-new]@ git+https://github.com/unslothai/unsloth.git)\n",
            "  Downloading docstring_parser-0.16-py3-none-any.whl (36 kB)\n",
            "Requirement already satisfied: rich>=11.1.0 in c:\\users\\user\\desktop\\github\\arasoft-langchain\\myenv\\lib\\site-packages (from tyro->unsloth[colab-new]@ git+https://github.com/unslothai/unsloth.git) (13.8.0)\n",
            "Collecting shtab>=1.5.6 (from tyro->unsloth[colab-new]@ git+https://github.com/unslothai/unsloth.git)\n",
            "  Downloading shtab-1.7.1-py3-none-any.whl (14 kB)\n",
            "Requirement already satisfied: aiohappyeyeballs>=2.3.0 in c:\\users\\user\\desktop\\github\\arasoft-langchain\\myenv\\lib\\site-packages (from aiohttp->datasets>=2.16.0->unsloth[colab-new]@ git+https://github.com/unslothai/unsloth.git) (2.4.0)\n",
            "Requirement already satisfied: aiosignal>=1.1.2 in c:\\users\\user\\desktop\\github\\arasoft-langchain\\myenv\\lib\\site-packages (from aiohttp->datasets>=2.16.0->unsloth[colab-new]@ git+https://github.com/unslothai/unsloth.git) (1.3.1)\n",
            "Requirement already satisfied: attrs>=17.3.0 in c:\\users\\user\\desktop\\github\\arasoft-langchain\\myenv\\lib\\site-packages (from aiohttp->datasets>=2.16.0->unsloth[colab-new]@ git+https://github.com/unslothai/unsloth.git) (24.2.0)\n",
            "Requirement already satisfied: frozenlist>=1.1.1 in c:\\users\\user\\desktop\\github\\arasoft-langchain\\myenv\\lib\\site-packages (from aiohttp->datasets>=2.16.0->unsloth[colab-new]@ git+https://github.com/unslothai/unsloth.git) (1.4.1)\n",
            "Requirement already satisfied: multidict<7.0,>=4.5 in c:\\users\\user\\desktop\\github\\arasoft-langchain\\myenv\\lib\\site-packages (from aiohttp->datasets>=2.16.0->unsloth[colab-new]@ git+https://github.com/unslothai/unsloth.git) (6.0.5)\n",
            "Requirement already satisfied: yarl<2.0,>=1.0 in c:\\users\\user\\desktop\\github\\arasoft-langchain\\myenv\\lib\\site-packages (from aiohttp->datasets>=2.16.0->unsloth[colab-new]@ git+https://github.com/unslothai/unsloth.git) (1.9.7)\n",
            "Requirement already satisfied: charset-normalizer<4,>=2 in c:\\users\\user\\desktop\\github\\arasoft-langchain\\myenv\\lib\\site-packages (from requests>=2.32.2->datasets>=2.16.0->unsloth[colab-new]@ git+https://github.com/unslothai/unsloth.git) (3.3.2)\n",
            "Requirement already satisfied: idna<4,>=2.5 in c:\\users\\user\\desktop\\github\\arasoft-langchain\\myenv\\lib\\site-packages (from requests>=2.32.2->datasets>=2.16.0->unsloth[colab-new]@ git+https://github.com/unslothai/unsloth.git) (3.8)\n",
            "Requirement already satisfied: urllib3<3,>=1.21.1 in c:\\users\\user\\desktop\\github\\arasoft-langchain\\myenv\\lib\\site-packages (from requests>=2.32.2->datasets>=2.16.0->unsloth[colab-new]@ git+https://github.com/unslothai/unsloth.git) (2.2.2)\n",
            "Requirement already satisfied: certifi>=2017.4.17 in c:\\users\\user\\desktop\\github\\arasoft-langchain\\myenv\\lib\\site-packages (from requests>=2.32.2->datasets>=2.16.0->unsloth[colab-new]@ git+https://github.com/unslothai/unsloth.git) (2024.8.30)\n",
            "Requirement already satisfied: markdown-it-py>=2.2.0 in c:\\users\\user\\desktop\\github\\arasoft-langchain\\myenv\\lib\\site-packages (from rich>=11.1.0->tyro->unsloth[colab-new]@ git+https://github.com/unslothai/unsloth.git) (3.0.0)\n",
            "Requirement already satisfied: pygments<3.0.0,>=2.13.0 in c:\\users\\user\\desktop\\github\\arasoft-langchain\\myenv\\lib\\site-packages (from rich>=11.1.0->tyro->unsloth[colab-new]@ git+https://github.com/unslothai/unsloth.git) (2.18.0)\n",
            "Requirement already satisfied: python-dateutil>=2.8.2 in c:\\users\\user\\desktop\\github\\arasoft-langchain\\myenv\\lib\\site-packages (from pandas->datasets>=2.16.0->unsloth[colab-new]@ git+https://github.com/unslothai/unsloth.git) (2.9.0.post0)\n",
            "Requirement already satisfied: pytz>=2020.1 in c:\\users\\user\\desktop\\github\\arasoft-langchain\\myenv\\lib\\site-packages (from pandas->datasets>=2.16.0->unsloth[colab-new]@ git+https://github.com/unslothai/unsloth.git) (2024.1)\n",
            "Requirement already satisfied: tzdata>=2022.7 in c:\\users\\user\\desktop\\github\\arasoft-langchain\\myenv\\lib\\site-packages (from pandas->datasets>=2.16.0->unsloth[colab-new]@ git+https://github.com/unslothai/unsloth.git) (2024.1)\n",
            "Requirement already satisfied: mdurl~=0.1 in c:\\users\\user\\desktop\\github\\arasoft-langchain\\myenv\\lib\\site-packages (from markdown-it-py>=2.2.0->rich>=11.1.0->tyro->unsloth[colab-new]@ git+https://github.com/unslothai/unsloth.git) (0.1.2)\n",
            "Requirement already satisfied: six>=1.5 in c:\\users\\user\\desktop\\github\\arasoft-langchain\\myenv\\lib\\site-packages (from python-dateutil>=2.8.2->pandas->datasets>=2.16.0->unsloth[colab-new]@ git+https://github.com/unslothai/unsloth.git) (1.16.0)\n",
            "Building wheels for collected packages: unsloth\n",
            "  Building wheel for unsloth (pyproject.toml): started\n",
            "  Building wheel for unsloth (pyproject.toml): finished with status 'done'\n",
            "  Created wheel for unsloth: filename=unsloth-2024.9.post4-py3-none-any.whl size=165933 sha256=0a74204651049c0ed4959a567b338e12f674e56d6a01f18fe6498e39880d6af9\n",
            "  Stored in directory: C:\\Users\\User\\AppData\\Local\\Temp\\pip-ephem-wheel-cache-qr6s4kg7\\wheels\\d1\\17\\05\\850ab10c33284a4763b0595cd8ea9d01fce6e221cac24b3c01\n",
            "Successfully built unsloth\n",
            "Installing collected packages: sentencepiece, wheel, unsloth, shtab, protobuf, hf-transfer, docstring-parser, tyro, tokenizers, transformers\n",
            "  Attempting uninstall: protobuf\n",
            "    Found existing installation: protobuf 4.25.4\n",
            "    Uninstalling protobuf-4.25.4:\n",
            "      Successfully uninstalled protobuf-4.25.4\n",
            "  Attempting uninstall: tokenizers\n",
            "    Found existing installation: tokenizers 0.20.0\n",
            "    Uninstalling tokenizers-0.20.0:\n",
            "      Successfully uninstalled tokenizers-0.20.0\n",
            "  Attempting uninstall: transformers\n",
            "    Found existing installation: transformers 4.45.1\n",
            "    Uninstalling transformers-4.45.1:\n",
            "      Successfully uninstalled transformers-4.45.1\n",
            "Successfully installed docstring-parser-0.16 hf-transfer-0.1.8 protobuf-3.20.3 sentencepiece-0.2.0 shtab-1.7.1 tokenizers-0.19.1 transformers-4.44.2 tyro-0.8.11 unsloth-2024.9.post4 wheel-0.44.0\n"
          ]
        },
        {
          "name": "stderr",
          "output_type": "stream",
          "text": [
            "WARNING: Skipping unsloth as it is not installed.\n",
            "  Running command git clone --filter=blob:none --quiet https://github.com/unslothai/unsloth.git 'C:\\Users\\User\\AppData\\Local\\Temp\\pip-install-wuwqvjre\\unsloth_fef6f8b05e6f4e6dae4e2c57d5fd6296'\n",
            "ERROR: pip's dependency resolver does not currently take into account all the packages that are installed. This behaviour is the source of the following dependency conflicts.\n",
            "grpcio-status 1.62.3 requires protobuf>=4.21.6, but you have protobuf 3.20.3 which is incompatible.\n",
            "protoc-gen-openapiv2 0.0.1 requires protobuf>=4.21.0, but you have protobuf 3.20.3 which is incompatible.\n",
            "\n",
            "[notice] A new release of pip is available: 23.1.2 -> 24.2\n",
            "[notice] To update, run: python.exe -m pip install --upgrade pip\n"
          ]
        }
      ],
      "source": [
        "!pip install unsloth\n",
        "!pip uninstall unsloth -y && pip install --upgrade --no-cache-dir \"unsloth[colab-new] @ git+https://github.com/unslothai/unsloth.git\""
      ]
    },
    {
      "cell_type": "code",
      "execution_count": null,
      "metadata": {
        "id": "QzmAKT_VHpnC"
      },
      "outputs": [],
      "source": [
        "# xformers 버전 이슈 컨트롤\n",
        "!pip uninstall xformers\n",
        "!pip install xformers"
      ]
    },
    {
      "cell_type": "code",
      "execution_count": 5,
      "metadata": {
        "id": "nHDYniB2GZnJ"
      },
      "outputs": [
        {
          "ename": "ModuleNotFoundError",
          "evalue": "No module named 'bitsandbytes'",
          "output_type": "error",
          "traceback": [
            "\u001b[1;31m---------------------------------------------------------------------------\u001b[0m",
            "\u001b[1;31mModuleNotFoundError\u001b[0m                       Traceback (most recent call last)",
            "Cell \u001b[1;32mIn[5], line 2\u001b[0m\n\u001b[0;32m      1\u001b[0m \u001b[38;5;66;03m# Base Model 세팅\u001b[39;00m\n\u001b[1;32m----> 2\u001b[0m \u001b[38;5;28;01mfrom\u001b[39;00m \u001b[38;5;21;01munsloth\u001b[39;00m \u001b[38;5;28;01mimport\u001b[39;00m FastLanguageModel\n\u001b[0;32m      3\u001b[0m \u001b[38;5;28;01mimport\u001b[39;00m \u001b[38;5;21;01mtorch\u001b[39;00m\n\u001b[0;32m      4\u001b[0m max_seq_length \u001b[38;5;241m=\u001b[39m \u001b[38;5;241m2048\u001b[39m\n",
            "File \u001b[1;32mc:\\Users\\User\\Desktop\\github\\arasoft-langchain\\myenv\\Lib\\site-packages\\unsloth\\__init__.py:97\u001b[0m\n\u001b[0;32m     94\u001b[0m \u001b[38;5;28;01mpass\u001b[39;00m\n\u001b[0;32m     96\u001b[0m \u001b[38;5;66;03m# Try loading bitsandbytes and triton\u001b[39;00m\n\u001b[1;32m---> 97\u001b[0m \u001b[38;5;28;01mimport\u001b[39;00m \u001b[38;5;21;01mbitsandbytes\u001b[39;00m \u001b[38;5;28;01mas\u001b[39;00m \u001b[38;5;21;01mbnb\u001b[39;00m\n\u001b[0;32m     99\u001b[0m \u001b[38;5;28;01mif\u001b[39;00m \u001b[38;5;124m\"\u001b[39m\u001b[38;5;124mSPACE_AUTHOR_NAME\u001b[39m\u001b[38;5;124m\"\u001b[39m \u001b[38;5;129;01mnot\u001b[39;00m \u001b[38;5;129;01min\u001b[39;00m os\u001b[38;5;241m.\u001b[39menviron \u001b[38;5;129;01mand\u001b[39;00m \u001b[38;5;124m\"\u001b[39m\u001b[38;5;124mSPACE_REPO_NAME\u001b[39m\u001b[38;5;124m\"\u001b[39m \u001b[38;5;129;01mnot\u001b[39;00m \u001b[38;5;129;01min\u001b[39;00m os\u001b[38;5;241m.\u001b[39menviron:\n\u001b[0;32m    101\u001b[0m     \u001b[38;5;28;01mimport\u001b[39;00m \u001b[38;5;21;01mtriton\u001b[39;00m\n",
            "\u001b[1;31mModuleNotFoundError\u001b[0m: No module named 'bitsandbytes'"
          ]
        }
      ],
      "source": [
        "# Base Model 세팅\n",
        "from unsloth import FastLanguageModel\n",
        "import torch\n",
        "max_seq_length = 2048\n",
        "dtype = None\n",
        "load_in_4bit = True\n",
        "\n",
        "model, tokenizer = FastLanguageModel.from_pretrained(\n",
        "    model_name = \"sh2orc/Llama-3.1-Korean-8B-Instruct\",\n",
        "    max_seq_length = max_seq_length,\n",
        "    dtype = dtype,\n",
        "    load_in_4bit = load_in_4bit,\n",
        ")"
      ]
    },
    {
      "cell_type": "code",
      "execution_count": null,
      "metadata": {
        "id": "_u9ECIn8IxAE"
      },
      "outputs": [],
      "source": [
        "model = FastLanguageModel.get_peft_model(\n",
        "    model,\n",
        "    r = 16, # Choose any number > 0 ! Suggested 8, 16, 32, 64, 128\n",
        "    target_modules = [\"q_proj\", \"k_proj\", \"v_proj\", \"o_proj\",\n",
        "                      \"gate_proj\", \"up_proj\", \"down_proj\",],\n",
        "    lora_alpha = 16,\n",
        "    lora_dropout = 0, # Supports any, but = 0 is optimized\n",
        "    bias = \"none\",    # Supports any, but = \"none\" is optimized\n",
        "    # [NEW] \"unsloth\" uses 30% less VRAM, fits 2x larger batch sizes!\n",
        "    use_gradient_checkpointing = \"unsloth\", # True or \"unsloth\" for very long context\n",
        "    random_state = 3407,\n",
        "    use_rslora = False,  # We support rank stabilized LoRA\n",
        "    loftq_config = None, # And LoftQ\n",
        ")"
      ]
    },
    {
      "cell_type": "code",
      "execution_count": null,
      "metadata": {
        "collapsed": true,
        "id": "IJlh2jWeI7yH"
      },
      "outputs": [],
      "source": [
        "from datasets import load_dataset\n",
        "\n",
        "alpaca_prompt = \"\"\"Below is an instruction that describes a task, paired with an input that provides further context. Write a response that appropriately completes the request.\n",
        "\n",
        "### Instruction:\n",
        "{}\n",
        "\n",
        "### Input:\n",
        "{}\n",
        "\n",
        "### Response:\n",
        "{}\"\"\"\n",
        "\n",
        "EOS_TOKEN = tokenizer.eos_token # Must add EOS_TOKEN\n",
        "def formatting_prompts_func(examples):\n",
        "    # 책 제목, 대분류, 중분류를 하나의 문자열로 결합하여 instruction에 할당\n",
        "    instructions = [\n",
        "        f\"책 제목: {title} 대분류: {category1} 중분류: {category2}\"\n",
        "        for title, category1, category2 in zip(examples[\"책_제목\"], examples[\"대분류_카테고리\"], examples[\"중분류_카테고리\"])\n",
        "    ]\n",
        "    # 원고를 input에 할당\n",
        "    inputs = examples[\"원고_텍스트\"]\n",
        "    # HTML을 output에 할당\n",
        "    outputs = examples[\"HTML\"]\n",
        "\n",
        "    # 최종 텍스트 포맷팅\n",
        "    texts = []\n",
        "    for instruction, input, output in zip(instructions, inputs, outputs):\n",
        "        text = alpaca_prompt.format(instruction, input, output) + EOS_TOKEN\n",
        "        texts.append(text)\n",
        "\n",
        "    return {\"text\": texts, }\n",
        "pass\n",
        "\n",
        "# 예시 데이터셋 전처리 적용\n",
        "base_path = '/content/gdrive/MyDrive/아라소프트/'\n",
        "csv_file_path = base_path + 'dataset.csv'\n",
        "dataset = load_dataset('csv', data_files=csv_file_path, split = \"train\")\n",
        "dataset = dataset.map(formatting_prompts_func, batched=True)"
      ]
    },
    {
      "cell_type": "code",
      "execution_count": null,
      "metadata": {
        "id": "79MCyiomKJo4"
      },
      "outputs": [],
      "source": [
        "from trl import SFTTrainer\n",
        "from transformers import TrainingArguments\n",
        "from unsloth import is_bfloat16_supported\n",
        "\n",
        "trainer = SFTTrainer(\n",
        "    model = model,\n",
        "    tokenizer = tokenizer,\n",
        "    train_dataset = dataset,\n",
        "    dataset_text_field = \"text\",\n",
        "    max_seq_length = max_seq_length,\n",
        "    dataset_num_proc = 2,\n",
        "    packing = False, # Can make training 5x faster for short sequences.\n",
        "    args = TrainingArguments(\n",
        "        per_device_train_batch_size = 2,\n",
        "        gradient_accumulation_steps = 4,\n",
        "        warmup_steps = 5,\n",
        "        # num_train_epochs = 1, # Set this for 1 full training run.\n",
        "        max_steps = 60,\n",
        "        learning_rate = 2e-4,\n",
        "        fp16 = not is_bfloat16_supported(),\n",
        "        bf16 = is_bfloat16_supported(),\n",
        "        logging_steps = 1,\n",
        "        optim = \"adamw_8bit\",\n",
        "        weight_decay = 0.01,\n",
        "        lr_scheduler_type = \"linear\",\n",
        "        seed = 3407,\n",
        "        output_dir = \"outputs\",\n",
        "    ),\n",
        ")"
      ]
    },
    {
      "cell_type": "code",
      "execution_count": null,
      "metadata": {
        "id": "-_TfYJYiMIgY"
      },
      "outputs": [],
      "source": [
        "#@title Show current memory stats\n",
        "gpu_stats = torch.cuda.get_device_properties(0)\n",
        "start_gpu_memory = round(torch.cuda.max_memory_reserved() / 1024 / 1024 / 1024, 3)\n",
        "max_memory = round(gpu_stats.total_memory / 1024 / 1024 / 1024, 3)\n",
        "print(f\"GPU = {gpu_stats.name}. Max memory = {max_memory} GB.\")\n",
        "print(f\"{start_gpu_memory} GB of memory reserved.\")"
      ]
    },
    {
      "cell_type": "code",
      "execution_count": null,
      "metadata": {
        "id": "0fukAoC4MJrg"
      },
      "outputs": [],
      "source": [
        "trainer_stats = trainer.train()"
      ]
    },
    {
      "cell_type": "code",
      "execution_count": null,
      "metadata": {
        "id": "OGFOjb1xMNew"
      },
      "outputs": [],
      "source": [
        "#@title Show final memory and time stats\n",
        "used_memory = round(torch.cuda.max_memory_reserved() / 1024 / 1024 / 1024, 3)\n",
        "used_memory_for_lora = round(used_memory - start_gpu_memory, 3)\n",
        "used_percentage = round(used_memory         /max_memory*100, 3)\n",
        "lora_percentage = round(used_memory_for_lora/max_memory*100, 3)\n",
        "print(f\"{trainer_stats.metrics['train_runtime']} seconds used for training.\")\n",
        "print(f\"{round(trainer_stats.metrics['train_runtime']/60, 2)} minutes used for training.\")\n",
        "print(f\"Peak reserved memory = {used_memory} GB.\")\n",
        "print(f\"Peak reserved memory for training = {used_memory_for_lora} GB.\")\n",
        "print(f\"Peak reserved memory % of max memory = {used_percentage} %.\")\n",
        "print(f\"Peak reserved memory for training % of max memory = {lora_percentage} %.\")"
      ]
    }
  ],
  "metadata": {
    "accelerator": "GPU",
    "colab": {
      "gpuType": "T4",
      "private_outputs": true,
      "provenance": []
    },
    "kernelspec": {
      "display_name": "Python 3",
      "name": "python3"
    },
    "language_info": {
      "codemirror_mode": {
        "name": "ipython",
        "version": 3
      },
      "file_extension": ".py",
      "mimetype": "text/x-python",
      "name": "python",
      "nbconvert_exporter": "python",
      "pygments_lexer": "ipython3",
      "version": "3.11.4"
    }
  },
  "nbformat": 4,
  "nbformat_minor": 0
}
